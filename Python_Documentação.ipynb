{
  "nbformat": 4,
  "nbformat_minor": 0,
  "metadata": {
    "colab": {
      "provenance": [],
      "authorship_tag": "ABX9TyNYE8AgNHIh6sDWBaV4NxXZ",
      "include_colab_link": true
    },
    "kernelspec": {
      "name": "python3",
      "display_name": "Python 3"
    },
    "language_info": {
      "name": "python"
    }
  },
  "cells": [
    {
      "cell_type": "markdown",
      "metadata": {
        "id": "view-in-github",
        "colab_type": "text"
      },
      "source": [
        "<a href=\"https://colab.research.google.com/github/RonaldoSouzaEngComp/Python_Documentacao/blob/main/Python_Documenta%C3%A7%C3%A3o.ipynb\" target=\"_parent\"><img src=\"https://colab.research.google.com/assets/colab-badge.svg\" alt=\"Open In Colab\"/></a>"
      ]
    },
    {
      "cell_type": "markdown",
      "source": [
        "**Estrutura Condicionais** - if, else, elif, for e while\n",
        "int(): Converte um dado de String para um número Inteiro;\n",
        "input(): função usada para receber os dados fornecidos pelo usuário;\n",
        "\n",
        "\n",
        "**Exercicio 01** - (While, If, Elif e Else) Escreva um programa que solicite ao usuário que adivinhe um número entre 1 e 100 O programa deve continuar solicitando a entrada do usuário até que ele adivinhe corretamente o número."
      ],
      "metadata": {
        "id": "j-DCQLIOSRpx"
      }
    },
    {
      "cell_type": "code",
      "execution_count": 2,
      "metadata": {
        "colab": {
          "base_uri": "https://localhost:8080/"
        },
        "id": "w2K2xvfSRl-g",
        "outputId": "f7556c4f-8c5c-4e3b-a30c-577637c01acd"
      },
      "outputs": [
        {
          "output_type": "stream",
          "name": "stdout",
          "text": [
            "Tente adivinhar o número secreto entre 1 e 100: 50\n",
            "|------------------------------------------------------|\n",
            "O número secreto é MAIOR. Tente novamente\n",
            "Tente adivinhar o número secreto entre 1 e 100: 80\n",
            "|------------------------------------------------------|\n",
            "O número secreto é MENOR. Tente Novamente\n",
            "Tente adivinhar o número secreto entre 1 e 100: 65\n",
            "|------------------------------------------------------|\n",
            "O número secreto é MENOR. Tente Novamente\n",
            "Tente adivinhar o número secreto entre 1 e 100: 60\n",
            "|------------------------------------------------------|\n",
            "O número secreto é MENOR. Tente Novamente\n",
            "Tente adivinhar o número secreto entre 1 e 100: 55\n",
            "|------------------------------------------------------|\n",
            "O número secreto é MENOR. Tente Novamente\n",
            "Tente adivinhar o número secreto entre 1 e 100: 52\n",
            "|******************************************************|\n",
            "Parabéns! Você acertou o número secreto!\n"
          ]
        }
      ],
      "source": [
        "# O COMANDO ABAIXO IMPORTA O MÓDULO random QUE FORNCE FUNÇÕES PARA GERAR NÚMEROS ALEATÓRIOS\n",
        "import random\n",
        "\n",
        "\"\"\"\n",
        "O COMANDO DA LINHA 5 GERA UM NÚMERO ALEATÓRIO ENTRE 1 E 100,\n",
        "USANDO A FUNÇÃO randint(inicio, final) DO MÓDULO random.\n",
        "SALVANDO O NÚMERO GERADO A VARIÉVEL numero_secreto\n",
        "\"\"\"\n",
        "numero_secreto = random.randint(1,100)\n",
        "\n",
        "\"\"\"\n",
        " A LINHA ABAIXO É ATRIBUIDO A VARIÁVEL adivinhou COMO falso. ESSA VARIÁVEL SERÁ\n",
        " USADA NO CONTROLE DO LOOP DO COMANDO WHILE\n",
        "\"\"\"\n",
        "adivinhou = False\n",
        "\n",
        "\"\"\"\n",
        " O COMANDO WHILE VERIFICA O STATUS DE adivinhou QUANDO O USUÁRIO ACERTAR O NÚMERO\n",
        " A VARIÁVEL adivinhou MUDA PARA True, COM ISSO O PROGRAMA FINALIZA\n",
        "\"\"\"\n",
        "while not adivinhou:\n",
        "  # input(): SOLICITA UMA ENTRADA NUMERICA NO FORMATO DE STRING\n",
        "  # int(): CONVERTE A STRING DE input PARA UM VALOR NUMERICO\n",
        "  tentativa = int(input(\"Tente adivinhar o número secreto entre 1 e 100: \"))\n",
        "\n",
        "  # O COMANDO if VERIFICA SE tentativa É IGUAL AO VALOR DO numero_secreto, SE FOR IMPRIME O COMANDO print()\n",
        "  # E ALTERA O STATUS DA VARIÁVEL adivinhou PARA True\n",
        "  if tentativa == numero_secreto:\n",
        "    print(\"|******************************************************|\")\n",
        "    print(\"Parabéns! Você acertou o número secreto!\")\n",
        "    adivinhou = True\n",
        "\n",
        "  # O COMANDO elif VERIFICA SE A VARIÁVEL tentativa É MAIOR QUE O numero_secreto SE FOR IMPRIME O COMANDO print()\n",
        "  elif tentativa < numero_secreto:\n",
        "    print(\"|------------------------------------------------------|\")\n",
        "    print(\"O número secreto é MAIOR. Tente novamente\")\n",
        "\n",
        "  # O COMANDO else VERIFICA SE A VARIÁVEL tentativa É MENOR QUE O numero_secreto SE FOR IMPRIME O COMANDO print()\n",
        "  else:\n",
        "    print(\"|------------------------------------------------------|\")\n",
        "    print(\"O número secreto é MENOR. Tente Novamente\")"
      ]
    },
    {
      "cell_type": "markdown",
      "source": [
        "**Exercicio 02** - (For) Escreva um programa que calcule a média das notas de uma lista de alunos. A lista em TUPLAS onde cada tupla contém o nome do aluno seguido por suas três notas. O programa deve calcular a média das notas de cada aluno e imprimir o nome do aluno seguido pela sua média."
      ],
      "metadata": {
        "id": "VxN0o-ZN77Fw"
      }
    },
    {
      "cell_type": "code",
      "source": [
        "\"\"\"\n",
        "A VARIÁVEL alunos É UMA LISTA QUE SEUS ELEMENTOS SÃO TUPLAS, E CADA TUPLA É UM ALUNO SEGUIDO PELAS SUAS NOTAS\n",
        "LISTA = (NOME, NOTA_1, NOTA_2, NOTA_3)\n",
        "\"\"\"\n",
        "alunos = [(\"João\",   8, 7, 9),\n",
        "          (\"Paulo\",  6, 8, 10),\n",
        "          (\"Pedro\",  9, 9, 7),\n",
        "          (\"Tiago\",  7, 6, 9),\n",
        "          (\"Abraão\", 5, 5, 10),\n",
        "          (\"Moíses\", 3, 5, 8),\n",
        "          (\"José\",   7, 5, 9),]\n",
        "\n",
        "# O COMANDO for FAÇA A ITERAÇÃO DE CADA ELEMENTO (ALUNO) DA LISTA alunos\n",
        "for aluno in alunos:\n",
        "  # nome_aluno RECEBE O PRIMEIRO ELEMENTO DA LISTA QUE É O NOME DO ALUNO\n",
        "  nome_aluno = aluno[0]\n",
        "\n",
        "  \"\"\"\n",
        "  A VARIÁVEL notas EXCLUI O PRIMEIRO ELEMENTO DA LISTA (INDICE 0) E ATRIBUI OS\n",
        "  VALORES DA LISTA A PARTIR DO SEGUNDO ELEMENTO (INDICE 1)\n",
        "  \"\"\"\n",
        "  notas = aluno[1:]\n",
        "\n",
        "  \"\"\"\n",
        "  A LINHA ABAIXO FAZ O CALCULO DA MÉDIA DAS NOTAS DO ALUNO, sum() SOMA AS NOTAS\n",
        "  E DIVIDE PELO QUANTIDADE DE NOTAS len()\n",
        "  \"\"\"\n",
        "  media = sum(notas)/len(notas)\n",
        "\n",
        "  \"\"\"\n",
        "  O COMANDO ABAIXO IMPRIME O NOME DE CADA ALUNO DA LISTA JUNTO COM A SUA MÉDIA\n",
        "  UTILIZANDO UMA f-string PARA FORMATAR A SAÍDA IMPRIMIDA\n",
        "  \"\"\"\n",
        "  print(f\"O aluno {nome_aluno} obteve média {media:.2f}\")"
      ],
      "metadata": {
        "colab": {
          "base_uri": "https://localhost:8080/"
        },
        "id": "ec-uJKON76ko",
        "outputId": "a84e3084-e7d5-4d24-ff84-035d2e0fd9ea"
      },
      "execution_count": 5,
      "outputs": [
        {
          "output_type": "stream",
          "name": "stdout",
          "text": [
            "O aluno João obteve média 8.00\n",
            "O aluno Paulo obteve média 8.00\n",
            "O aluno Pedro obteve média 8.33\n",
            "O aluno Tiago obteve média 7.33\n",
            "O aluno Abraão obteve média 6.67\n",
            "O aluno Moíses obteve média 5.33\n",
            "O aluno José obteve média 7.00\n"
          ]
        }
      ]
    }
  ]
}