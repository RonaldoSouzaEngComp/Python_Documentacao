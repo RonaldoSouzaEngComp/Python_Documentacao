{
  "nbformat": 4,
  "nbformat_minor": 0,
  "metadata": {
    "colab": {
      "provenance": [],
      "authorship_tag": "ABX9TyNWlemNZb6WJ1Elh3kfR7CF",
      "include_colab_link": true
    },
    "kernelspec": {
      "name": "python3",
      "display_name": "Python 3"
    },
    "language_info": {
      "name": "python"
    }
  },
  "cells": [
    {
      "cell_type": "markdown",
      "metadata": {
        "id": "view-in-github",
        "colab_type": "text"
      },
      "source": [
        "<a href=\"https://colab.research.google.com/github/RonaldoSouzaEngComp/Python_Documentacao/blob/main/Python_Documenta%C3%A7%C3%A3o.ipynb\" target=\"_parent\"><img src=\"https://colab.research.google.com/assets/colab-badge.svg\" alt=\"Open In Colab\"/></a>"
      ]
    },
    {
      "cell_type": "markdown",
      "source": [
        "Estrutura Condicionais - if, else, elif, for e while\n",
        "\n",
        "CONDIÇÃO: avalia se a expressão é verdadeira ou falsa. Sendo verdadeira executa a INSTRUÇÃO.\n",
        "\n",
        "```\n",
        "if CONDIÇÃO:\n",
        "  INSTRUÇÃO_01\n",
        "  INSTRUÇÃO_02\n",
        "  ...\n",
        "  INSTRUÇÃO_XX\n",
        "\n",
        "elif OUTRA_CONDIÇÃO:\n",
        "  INSTRUÇÃO_01\n",
        "  INSTRUÇÃO_02\n",
        "  ...\n",
        "  INSTRUÇÃO_XX\n",
        "\n",
        "else:\n",
        "  INSTRUÇÃO_01\n",
        "  INSTRUÇÃO_02\n",
        "  ...\n",
        "  INSTRUÇÃO_XX\n",
        "```\n",
        "\n"
      ],
      "metadata": {
        "id": "j-DCQLIOSRpx"
      }
    },
    {
      "cell_type": "markdown",
      "source": [
        "Exercicio 01 - (While, If, Elif e Else) Escreva um programa que solicite ao usuário que adivinhe um número entre 1 e 100 O programa deve continuar solicitando a entrada do usuário até que ele adivinhe corretamente o número."
      ],
      "metadata": {
        "id": "9swqm20TUGty"
      }
    },
    {
      "cell_type": "code",
      "execution_count": 2,
      "metadata": {
        "colab": {
          "base_uri": "https://localhost:8080/"
        },
        "id": "w2K2xvfSRl-g",
        "outputId": "f7556c4f-8c5c-4e3b-a30c-577637c01acd"
      },
      "outputs": [
        {
          "output_type": "stream",
          "name": "stdout",
          "text": [
            "Tente adivinhar o número secreto entre 1 e 100: 50\n",
            "|------------------------------------------------------|\n",
            "O número secreto é MAIOR. Tente novamente\n",
            "Tente adivinhar o número secreto entre 1 e 100: 80\n",
            "|------------------------------------------------------|\n",
            "O número secreto é MENOR. Tente Novamente\n",
            "Tente adivinhar o número secreto entre 1 e 100: 65\n",
            "|------------------------------------------------------|\n",
            "O número secreto é MENOR. Tente Novamente\n",
            "Tente adivinhar o número secreto entre 1 e 100: 60\n",
            "|------------------------------------------------------|\n",
            "O número secreto é MENOR. Tente Novamente\n",
            "Tente adivinhar o número secreto entre 1 e 100: 55\n",
            "|------------------------------------------------------|\n",
            "O número secreto é MENOR. Tente Novamente\n",
            "Tente adivinhar o número secreto entre 1 e 100: 52\n",
            "|******************************************************|\n",
            "Parabéns! Você acertou o número secreto!\n"
          ]
        }
      ],
      "source": [
        "# O COMANDO ABAIXO IMPORTA O MÓDULO random QUE FORNCE FUNÇÕES PARA GERAR NÚMEROS ALEATÓRIOS\n",
        "import random\n",
        "\"\"\"\n",
        "# O COMANDO DA LINHA 5 GERA UM NÚMERO ALEATÓRIO ENTRE 1 E 100, USANDO A FUNÇÃO randint(inicio, final) DO MÓDULO random.\n",
        "SALVANDO O NÚMERO GERADO A VARIÉVEL numero_secreto\n",
        "\"\"\"\n",
        "numero_secreto = random.randint(1,100)\n",
        "\n",
        "# A LINHA ABAIXO É ATRIBUIDO A VARIÁVEL adivinhou COMO falso. ESSA VARIÁVEL SERÁ USADA NO CONTROLE DO LOOP DO COMANDO WHILE\n",
        "adivinhou = False\n",
        "\n",
        "# O COMANDO WHILE VERIFICA O STATUS DE adivinhou QUANDO O USUÁRIO ACERTAR O NÚMERO A VARIÁVEL adivinhou MUDA PARA True\n",
        "# COM ISSO O PROGRAMA FINALIZA\n",
        "while not adivinhou:\n",
        "  # input(): SOLICITA UMA ENTRADA NUMERICA NO FORMATO DE STRING\n",
        "  # int(): CONVERTE A STRING DE input PARA UM VALOR NUMERICO\n",
        "  tentativa = int(input(\"Tente adivinhar o número secreto entre 1 e 100: \"))\n",
        "\n",
        "  # O COMANDO if VERIFICA SE tentativa É IGUAL AO VALOR DO numero_secreto, SE FOR IMPRIME O COMANDO print()\n",
        "  # E ALTERA O STATUS DA VARIÁVEL adivinhou PARA True\n",
        "  if tentativa == numero_secreto:\n",
        "    print(\"|******************************************************|\")\n",
        "    print(\"Parabéns! Você acertou o número secreto!\")\n",
        "    adivinhou = True\n",
        "\n",
        "  # O COMANDO elif VERIFICA SE A VARIÁVEL tentativa É MAIOR QUE O numero_secreto SE FOR IMPRIME O COMANDO print()\n",
        "  elif tentativa < numero_secreto:\n",
        "    print(\"|------------------------------------------------------|\")\n",
        "    print(\"O número secreto é MAIOR. Tente novamente\")\n",
        "\n",
        "  # O COMANDO else VERIFICA SE A VARIÁVEL tentativa É MENOR QUE O numero_secreto SE FOR IMPRIME O COMANDO print()\n",
        "  else:\n",
        "    print(\"|------------------------------------------------------|\")\n",
        "    print(\"O número secreto é MENOR. Tente Novamente\")"
      ]
    }
  ]
}