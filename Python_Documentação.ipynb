{
  "nbformat": 4,
  "nbformat_minor": 0,
  "metadata": {
    "colab": {
      "provenance": [],
      "authorship_tag": "ABX9TyOOGpa66Qzo/woLJBL0DViJ",
      "include_colab_link": true
    },
    "kernelspec": {
      "name": "python3",
      "display_name": "Python 3"
    },
    "language_info": {
      "name": "python"
    }
  },
  "cells": [
    {
      "cell_type": "markdown",
      "metadata": {
        "id": "view-in-github",
        "colab_type": "text"
      },
      "source": [
        "<a href=\"https://colab.research.google.com/github/RonaldoSouzaEngComp/Python_Documentacao/blob/main/Python_Documenta%C3%A7%C3%A3o.ipynb\" target=\"_parent\"><img src=\"https://colab.research.google.com/assets/colab-badge.svg\" alt=\"Open In Colab\"/></a>"
      ]
    },
    {
      "cell_type": "markdown",
      "source": [
        "**Estrutura Condicionais** - if, else, elif, for e while\n",
        "int(): Converte um dado de String para um número Inteiro;\n",
        "input(): função usada para receber os dados fornecidos pelo usuário;\n",
        "\n",
        "\n",
        "**Exercicio 01** - (While, If, Elif e Else) Escreva um programa que solicite ao usuário que adivinhe um número entre 1 e 100 O programa deve continuar solicitando a entrada do usuário até que ele adivinhe corretamente o número."
      ],
      "metadata": {
        "id": "j-DCQLIOSRpx"
      }
    },
    {
      "cell_type": "code",
      "execution_count": null,
      "metadata": {
        "colab": {
          "base_uri": "https://localhost:8080/"
        },
        "id": "w2K2xvfSRl-g",
        "outputId": "f7556c4f-8c5c-4e3b-a30c-577637c01acd"
      },
      "outputs": [
        {
          "output_type": "stream",
          "name": "stdout",
          "text": [
            "Tente adivinhar o número secreto entre 1 e 100: 50\n",
            "|------------------------------------------------------|\n",
            "O número secreto é MAIOR. Tente novamente\n",
            "Tente adivinhar o número secreto entre 1 e 100: 80\n",
            "|------------------------------------------------------|\n",
            "O número secreto é MENOR. Tente Novamente\n",
            "Tente adivinhar o número secreto entre 1 e 100: 65\n",
            "|------------------------------------------------------|\n",
            "O número secreto é MENOR. Tente Novamente\n",
            "Tente adivinhar o número secreto entre 1 e 100: 60\n",
            "|------------------------------------------------------|\n",
            "O número secreto é MENOR. Tente Novamente\n",
            "Tente adivinhar o número secreto entre 1 e 100: 55\n",
            "|------------------------------------------------------|\n",
            "O número secreto é MENOR. Tente Novamente\n",
            "Tente adivinhar o número secreto entre 1 e 100: 52\n",
            "|******************************************************|\n",
            "Parabéns! Você acertou o número secreto!\n"
          ]
        }
      ],
      "source": [
        "# O COMANDO ABAIXO IMPORTA O MÓDULO random QUE FORNCE FUNÇÕES PARA GERAR NÚMEROS ALEATÓRIOS\n",
        "import random\n",
        "\n",
        "\"\"\"\n",
        "O COMANDO DA LINHA 5 GERA UM NÚMERO ALEATÓRIO ENTRE 1 E 100,\n",
        "USANDO A FUNÇÃO randint(inicio, final) DO MÓDULO random.\n",
        "SALVANDO O NÚMERO GERADO A VARIÉVEL numero_secreto\n",
        "\"\"\"\n",
        "numero_secreto = random.randint(1,100)\n",
        "\n",
        "\"\"\"\n",
        " A LINHA ABAIXO É ATRIBUIDO A VARIÁVEL adivinhou COMO falso. ESSA VARIÁVEL SERÁ\n",
        " USADA NO CONTROLE DO LOOP DO COMANDO WHILE\n",
        "\"\"\"\n",
        "adivinhou = False\n",
        "\n",
        "\"\"\"\n",
        " O COMANDO WHILE VERIFICA O STATUS DE adivinhou QUANDO O USUÁRIO ACERTAR O NÚMERO\n",
        " A VARIÁVEL adivinhou MUDA PARA True, COM ISSO O PROGRAMA FINALIZA\n",
        "\"\"\"\n",
        "while not adivinhou:\n",
        "  # input(): SOLICITA UMA ENTRADA NUMERICA NO FORMATO DE STRING\n",
        "  # int(): CONVERTE A STRING DE input PARA UM VALOR NUMERICO\n",
        "  tentativa = int(input(\"Tente adivinhar o número secreto entre 1 e 100: \"))\n",
        "\n",
        "  # O COMANDO if VERIFICA SE tentativa É IGUAL AO VALOR DO numero_secreto, SE FOR IMPRIME O COMANDO print()\n",
        "  # E ALTERA O STATUS DA VARIÁVEL adivinhou PARA True\n",
        "  if tentativa == numero_secreto:\n",
        "    print(\"|******************************************************|\")\n",
        "    print(\"Parabéns! Você acertou o número secreto!\")\n",
        "    adivinhou = True\n",
        "\n",
        "  # O COMANDO elif VERIFICA SE A VARIÁVEL tentativa É MAIOR QUE O numero_secreto SE FOR IMPRIME O COMANDO print()\n",
        "  elif tentativa < numero_secreto:\n",
        "    print(\"|------------------------------------------------------|\")\n",
        "    print(\"O número secreto é MAIOR. Tente novamente\")\n",
        "\n",
        "  # O COMANDO else VERIFICA SE A VARIÁVEL tentativa É MENOR QUE O numero_secreto SE FOR IMPRIME O COMANDO print()\n",
        "  else:\n",
        "    print(\"|------------------------------------------------------|\")\n",
        "    print(\"O número secreto é MENOR. Tente Novamente\")"
      ]
    },
    {
      "cell_type": "markdown",
      "source": [
        "**Exercicio 02** - (For) Escreva um programa que calcule a média das notas de uma lista de alunos. A lista em TUPLAS onde cada tupla contém o nome do aluno seguido por suas três notas. O programa deve calcular a média das notas de cada aluno e imprimir o nome do aluno seguido pela sua média."
      ],
      "metadata": {
        "id": "VxN0o-ZN77Fw"
      }
    },
    {
      "cell_type": "code",
      "source": [
        "\"\"\"\n",
        "A VARIÁVEL alunos É UMA LISTA QUE SEUS ELEMENTOS SÃO TUPLAS, E CADA TUPLA É UM ALUNO SEGUIDO PELAS SUAS NOTAS\n",
        "LISTA = (NOME, NOTA_1, NOTA_2, NOTA_3)\n",
        "\"\"\"\n",
        "alunos = [(\"João\",   8, 7, 9),\n",
        "          (\"Paulo\",  6, 8, 10),\n",
        "          (\"Pedro\",  9, 9, 7),\n",
        "          (\"Tiago\",  7, 6, 9),\n",
        "          (\"Abraão\", 5, 5, 10),\n",
        "          (\"Moíses\", 3, 5, 8),\n",
        "          (\"José\",   7, 5, 9),]\n",
        "\n",
        "# O COMANDO for FAÇA A ITERAÇÃO DE CADA ELEMENTO (ALUNO) DA LISTA alunos\n",
        "for aluno in alunos:\n",
        "  # nome_aluno RECEBE O PRIMEIRO ELEMENTO DA LISTA QUE É O NOME DO ALUNO\n",
        "  nome_aluno = aluno[0]\n",
        "\n",
        "  \"\"\"\n",
        "  A VARIÁVEL notas EXCLUI O PRIMEIRO ELEMENTO DA LISTA (INDICE 0) E ATRIBUI OS\n",
        "  VALORES DA LISTA A PARTIR DO SEGUNDO ELEMENTO (INDICE 1)\n",
        "  \"\"\"\n",
        "  notas = aluno[1:]\n",
        "\n",
        "  \"\"\"\n",
        "  A LINHA ABAIXO FAZ O CALCULO DA MÉDIA DAS NOTAS DO ALUNO, sum() SOMA AS NOTAS\n",
        "  E DIVIDE PELO QUANTIDADE DE NOTAS len()\n",
        "  \"\"\"\n",
        "  media = sum(notas)/len(notas)\n",
        "\n",
        "  \"\"\"\n",
        "  O COMANDO ABAIXO IMPRIME O NOME DE CADA ALUNO DA LISTA JUNTO COM A SUA MÉDIA\n",
        "  UTILIZANDO UMA f-string PARA FORMATAR A SAÍDA IMPRIMIDA\n",
        "  \"\"\"\n",
        "  print(f\"O aluno {nome_aluno} obteve média {media:.2f}\")"
      ],
      "metadata": {
        "colab": {
          "base_uri": "https://localhost:8080/"
        },
        "id": "ec-uJKON76ko",
        "outputId": "a84e3084-e7d5-4d24-ff84-035d2e0fd9ea"
      },
      "execution_count": null,
      "outputs": [
        {
          "output_type": "stream",
          "name": "stdout",
          "text": [
            "O aluno João obteve média 8.00\n",
            "O aluno Paulo obteve média 8.00\n",
            "O aluno Pedro obteve média 8.33\n",
            "O aluno Tiago obteve média 7.33\n",
            "O aluno Abraão obteve média 6.67\n",
            "O aluno Moíses obteve média 5.33\n",
            "O aluno José obteve média 7.00\n"
          ]
        }
      ]
    },
    {
      "cell_type": "markdown",
      "source": [
        "Exercicio 03 - (Listas) Considere uma lista de compras que contém os itens que um usuário deseja comprar no supermercado. Escreva um programa que realize as seguintes operações:\n",
        "\n",
        "1. Crie uma lista vazia chamada 'lista_de_compras';\n",
        "2. Permite que o usuário adicione itens à lista de compras digitando cada item;\n",
        "3. Após a entrada dos itens, exiba a lista de compras completa;\n",
        "4. Permita que o usuário remova um item específico da lista de compras digitando cada item;\n",
        "5. Exiba a lista de compras atualizada após a remoção do item;\n",
        "6. Adicione automaticamente um item adicional à lista de compras (por exempo, \"pão\") usando o método 'append()';\n",
        "7. Exiba a lista de compras final após a adição automática do item;\n",
        "\n",
        "\n",
        "\n"
      ],
      "metadata": {
        "id": "ngfIW8kLF3yg"
      }
    },
    {
      "cell_type": "code",
      "source": [
        "# 1 - CRIANDO UMA LISTA VAZIA DE COMPRAS\n",
        "lista_de_compras = []"
      ],
      "metadata": {
        "id": "jjPN31LvIF7e"
      },
      "execution_count": null,
      "outputs": []
    },
    {
      "cell_type": "code",
      "source": [
        "# 2 - ADICIONANDO ITENS À LISTA DE COMPRAS\n",
        "print(\"Digite os itens que deseja adicionar à lista de compras (digite 'fim' para terminar)\")\n",
        "\n",
        "# O COMANDO WHILE CONTINUARÁ EXECUTANDO IDEFINIDAMENTE ATÉ QUE SEJA INTERROMPIDO\n",
        "# PELA INSTRUÇÃO break\n",
        "while True:\n",
        "  # A VARIÁVEL item RECEBE O DADO INFORMADO PELO USUÁRIO\n",
        "  item = input(\"Item: \")\n",
        "\n",
        "  # VERIFICA SE O USUÁRIO DIGITOU A PALAVRA 'fim'\n",
        "  # lower(): TRANSFORMA A STRING DIGITADA PARA MINUSCULA\n",
        "  if item.lower() == 'fim':\n",
        "    break\n",
        "\n",
        "  # O item É ADICIONADO A LISTA DE COMPRAS\n",
        "  # append(): ADICIONA A ITEM A LISTA COMO UM NOVO ELEMENTO NO FINAL DA LISTA\n",
        "  lista_de_compras.append(item)"
      ],
      "metadata": {
        "colab": {
          "base_uri": "https://localhost:8080/"
        },
        "id": "V_RDUm7HIRYJ",
        "outputId": "39587951-bc3a-4a3f-9c4a-5936cd044f9a"
      },
      "execution_count": null,
      "outputs": [
        {
          "name": "stdout",
          "output_type": "stream",
          "text": [
            "Digite os itens que deseja adicionar à lista de compras (digite 'fim' para terminar)\n",
            "Item: leite\n",
            "Item: arroz\n",
            "Item: feijão\n",
            "Item: açucar\n",
            "Item: café\n",
            "Item: suco\n",
            "Item: fim\n"
          ]
        }
      ]
    },
    {
      "cell_type": "markdown",
      "source": [
        "**Exercicio 04** - (Tupla - Criação, acesso a elementos e imutabilidade) Suponha que você esteja construindo um sistema de reservas para um cinema. Cada filme tem um título, uma classificação indicativa e uma lista de horários de exibição. Escreva um programa que realize as seguintes operações:\n",
        "\n",
        "1. Crie uma Tupla contendo os detalhes de um filme especifico, incluindo seu título, classificação indicativa e uma lista de horários de exibição:"
      ],
      "metadata": {
        "id": "KteUGGoXntI3"
      }
    },
    {
      "cell_type": "code",
      "source": [
        "#CRIANDO UMA TUPLA filme QUE RECEBE OS DADOS DO FILME\n",
        "filme = (\"Matrix\", \"14 anos\",[\"10:00\", \"13:00\",\"16:00\"])\n",
        "print(filme)"
      ],
      "metadata": {
        "colab": {
          "base_uri": "https://localhost:8080/"
        },
        "id": "WobdDhrCov-u",
        "outputId": "4cd2c23b-697c-4adb-9b9e-972c0db95b4b"
      },
      "execution_count": 2,
      "outputs": [
        {
          "output_type": "stream",
          "name": "stdout",
          "text": [
            "('Matrix', '14 anos', ['10:00', '13:00', '16:00'])\n"
          ]
        }
      ]
    },
    {
      "cell_type": "markdown",
      "source": [
        "2. Permita que o usuário acesse e imprima os detalhes desse filme individualmente (Título, classificação e horário de exibição);"
      ],
      "metadata": {
        "id": "fdi0xov2pKyX"
      }
    },
    {
      "cell_type": "code",
      "source": [
        "# ACESSO E IMPRESSÃO DOS DETALHES DO FILME\n",
        "print(\"Detalhes do Filme: \")\n",
        "\n",
        "# filme[0]: CAPTURA O PRIMEIRO ELEMENTO DA TUPLA\n",
        "print(\"Título: \", filme[0])\n",
        "\n",
        "# filme[1]: CAPTURA O SEGUNDO ELEMENTO DA TUPLA\n",
        "print(\"Classificação Indicativa: \", filme[1])\n",
        "\n",
        "# filme[2]: CAPTURA O TERCEIRO ELEMENTO DA TUPLA\n",
        "print(\"Horários de Exibição: \", filme[2])"
      ],
      "metadata": {
        "colab": {
          "base_uri": "https://localhost:8080/"
        },
        "id": "RBIBPNkKpb00",
        "outputId": "909df3f1-173d-45cf-9819-badeb1a8a584"
      },
      "execution_count": 3,
      "outputs": [
        {
          "output_type": "stream",
          "name": "stdout",
          "text": [
            "Detalhes do Filme: \n",
            "Título:  Matrix\n",
            "Classificação Indicativa:  14 anos\n",
            "Horários de Exibição:  ['10:00', '13:00', '16:00']\n"
          ]
        }
      ]
    },
    {
      "cell_type": "markdown",
      "source": [
        "3. Permita que o usuário adicione um novo horário de exibição ao filme:"
      ],
      "metadata": {
        "id": "5feJu7PAqTwy"
      }
    },
    {
      "cell_type": "code",
      "source": [
        "# ADICIONANDO UM NOVO HORÁRIO DE EXIBIÇÃO AO FILME\n",
        "novo_horario = input(\"\\n Digite o novo horário de exibição a ser adicionado: \")\n",
        "filme[2].append(novo_horario)\n",
        "print(filme)"
      ],
      "metadata": {
        "colab": {
          "base_uri": "https://localhost:8080/"
        },
        "id": "ucYDNvIyqcWZ",
        "outputId": "742cda22-179a-4bda-fd56-10167e9021d1"
      },
      "execution_count": 4,
      "outputs": [
        {
          "output_type": "stream",
          "name": "stdout",
          "text": [
            "\n",
            " Digite o novo horário de exibição a ser adicionado: 20\n",
            "('Matrix', '14 anos', ['10:00', '13:00', '16:00', '20'])\n"
          ]
        }
      ]
    },
    {
      "cell_type": "markdown",
      "source": [
        "4. Exiba os detalhes atualizados do filme, incluindo o novo horário de exibição adicionado:"
      ],
      "metadata": {
        "id": "RWqvHDagq-Jd"
      }
    },
    {
      "cell_type": "code",
      "source": [
        "# DETALHES ATUALIZADO DO FILME\n",
        "print(\"\\nDetalhes atualizados do Filme: \")\n",
        "print(\"Título: \", filme[0])\n",
        "print(\"Classificação Indicativa: \", filme[1])\n",
        "print(\"Horários de Exibição: \", filme[2])"
      ],
      "metadata": {
        "colab": {
          "base_uri": "https://localhost:8080/"
        },
        "id": "e9Q5duA2rGju",
        "outputId": "78d109fd-b1b6-4985-d4b1-f7d67deae56b"
      },
      "execution_count": 5,
      "outputs": [
        {
          "output_type": "stream",
          "name": "stdout",
          "text": [
            "\n",
            "Detalhes atualizados do Filme: \n",
            "Título:  Matrix\n",
            "Classificação Indicativa:  14 anos\n",
            "Horários de Exibição:  ['10:00', '13:00', '16:00', '20']\n"
          ]
        }
      ]
    },
    {
      "cell_type": "markdown",
      "source": [
        "**Exercicio 05** - (Conjuntos: Criação e operação matemática) Suponha que você esteja desenvolvendo um sistema de recomendaçao de filmes para usuários com base em suas preferências. Cada usuário tem um conjuto de filmes que ele gostou. Escreva um programa que realize as seguintes operações:\n",
        "\n",
        "1. Crie cojuntos representando os filmes que dois usuários específicos gostariam e imprima os conjuntos de filmes de cada usuário:"
      ],
      "metadata": {
        "id": "G-yfEIdRwn1H"
      }
    },
    {
      "cell_type": "code",
      "source": [
        "# CONJUNTOS DE FILMES QUE OS DOIS USUÁRIOS GOSTARAM\n",
        "usuario_1_filmes = {\"Matrix\", \"Senhor dos Anéis\", \"Vingadores\"}\n",
        "usuario_2_filmes = {\"Matrix\", \"Interestelar\", \"Clube da Luta\"}\n",
        "\n",
        "print(\"Conjunto do Usuário 01: \", usuario_1_filmes)\n",
        "print(\"Conjunto do Usuário 02: \", usuario_2_filmes)"
      ],
      "metadata": {
        "colab": {
          "base_uri": "https://localhost:8080/"
        },
        "id": "CKwIJbU5xinF",
        "outputId": "0d116b1c-6d01-4f63-b1c1-9a7d002c9a6b"
      },
      "execution_count": 8,
      "outputs": [
        {
          "output_type": "stream",
          "name": "stdout",
          "text": [
            "Conjunto do Usuário 01:  {'Vingadores', 'Senhor dos Anéis', 'Matrix'}\n",
            "Conjunto do Usuário 02:  {'Interestelar', 'Clube da Luta', 'Matrix'}\n"
          ]
        }
      ]
    },
    {
      "cell_type": "markdown",
      "source": [
        "2 . Identifique e imprima os filmes recomendados para um novo usuário com base nas preferências dos dois usuários."
      ],
      "metadata": {
        "id": "bth0YIixyUf0"
      }
    },
    {
      "cell_type": "code",
      "source": [
        "# NOVO USUÁRIO E SEUS FILMES ASSISTIDOS\n",
        "usuario_3_filmes = {\"Vingadores\", \"Interestelar\", \"O Poderoso Chefão\"}\n",
        "print(\"Conjunto do Usuário 03: \", usuario_3_filmes)"
      ],
      "metadata": {
        "colab": {
          "base_uri": "https://localhost:8080/"
        },
        "id": "D6i2aINIy0hx",
        "outputId": "32178893-b9c6-4043-a401-f9a75179751f"
      },
      "execution_count": 9,
      "outputs": [
        {
          "output_type": "stream",
          "name": "stdout",
          "text": [
            "Conjunto do Usuário 03:  {'O Poderoso Chefão', 'Interestelar', 'Vingadores'}\n"
          ]
        }
      ]
    },
    {
      "cell_type": "markdown",
      "source": [
        "3. Faça a união dos conjuntos do usuário 01 e 02:\n",
        "\n",
        "union(): Faça a união dos conjuntos (sets)"
      ],
      "metadata": {
        "id": "ea5W57m4zbuF"
      }
    },
    {
      "cell_type": "code",
      "source": [
        "# UNIÃO DOS CONJUNTOS DE FILMES DOS USUÁRIOS 01 E 02\n",
        "uniao_01_02 = usuario_1_filmes.union(usuario_2_filmes)\n",
        "\n",
        "print(\"Conjunto do Usuário 01: \", usuario_1_filmes)\n",
        "print(\"Conjunto do Usuário 02: \", usuario_2_filmes)\n",
        "print(\"União dos Conjuntos dos Usuários 01 e 02: \", uniao_01_02)"
      ],
      "metadata": {
        "colab": {
          "base_uri": "https://localhost:8080/"
        },
        "id": "5_gvhc8CzhoR",
        "outputId": "590ba367-c94c-4d13-e987-7e2205bdca27"
      },
      "execution_count": 11,
      "outputs": [
        {
          "output_type": "stream",
          "name": "stdout",
          "text": [
            "Conjunto do Usuário 01:  {'Vingadores', 'Senhor dos Anéis', 'Matrix'}\n",
            "Conjunto do Usuário 02:  {'Interestelar', 'Clube da Luta', 'Matrix'}\n",
            "União dos Conjuntos dos Usuários 01 e 02:  {'Vingadores', 'Clube da Luta', 'Matrix', 'Interestelar', 'Senhor dos Anéis'}\n"
          ]
        }
      ]
    },
    {
      "cell_type": "markdown",
      "source": [
        "4. Faça recomendação para o usuário 03 que pelo menos um dos usuários 01 e 02 gostou, mas que o novo usuário ainda não viu e imprima o conjunto recomendado:"
      ],
      "metadata": {
        "id": "oOLciVEC0Kph"
      }
    },
    {
      "cell_type": "code",
      "source": [
        "# FILMES RECOMENDADOS PARA O USUÁRIO 03\n",
        "recomendados = uniao_01_02.difference(usuario_3_filmes)\n",
        "\n",
        "print(\"Filmes recomendados ao Usuário 03: \", recomendados)"
      ],
      "metadata": {
        "colab": {
          "base_uri": "https://localhost:8080/"
        },
        "id": "x49LY29I0mLN",
        "outputId": "bf893fe7-48f2-4532-b274-b32208aff813"
      },
      "execution_count": 13,
      "outputs": [
        {
          "output_type": "stream",
          "name": "stdout",
          "text": [
            "Filmes recomendados ao Usuário 03:  {'Clube da Luta', 'Senhor dos Anéis', 'Matrix'}\n"
          ]
        }
      ]
    }
  ]
}