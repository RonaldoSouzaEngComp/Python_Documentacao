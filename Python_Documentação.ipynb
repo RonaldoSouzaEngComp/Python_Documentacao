{
  "nbformat": 4,
  "nbformat_minor": 0,
  "metadata": {
    "colab": {
      "provenance": [],
      "authorship_tag": "ABX9TyM7s1n3bpman7gKVv1o3jvJ",
      "include_colab_link": true
    },
    "kernelspec": {
      "name": "python3",
      "display_name": "Python 3"
    },
    "language_info": {
      "name": "python"
    }
  },
  "cells": [
    {
      "cell_type": "markdown",
      "metadata": {
        "id": "view-in-github",
        "colab_type": "text"
      },
      "source": [
        "<a href=\"https://colab.research.google.com/github/RonaldoSouzaEngComp/Python_Documentacao/blob/main/Python_Documenta%C3%A7%C3%A3o.ipynb\" target=\"_parent\"><img src=\"https://colab.research.google.com/assets/colab-badge.svg\" alt=\"Open In Colab\"/></a>"
      ]
    },
    {
      "cell_type": "markdown",
      "source": [
        "Estrutura Condicionais - if, else, elif, for e while\n",
        "\n",
        "CONDIÇÃO: avalia se a expressão é verdadeira ou falsa. Sendo verdadeira executa a INSTRUÇÃO.\n",
        "\n",
        "```\n",
        "if CONDIÇÃO:\n",
        "  INSTRUÇÃO_01\n",
        "  INSTRUÇÃO_02\n",
        "  ...\n",
        "  INSTRUÇÃO_XX\n",
        "\n",
        "elif OUTRA_CONDIÇÃO:\n",
        "  INSTRUÇÃO_01\n",
        "  INSTRUÇÃO_02\n",
        "  ...\n",
        "  INSTRUÇÃO_XX\n",
        "\n",
        "else:\n",
        "  INSTRUÇÃO_01\n",
        "  INSTRUÇÃO_02\n",
        "  ...\n",
        "  INSTRUÇÃO_XX\n",
        "```\n",
        "\n"
      ],
      "metadata": {
        "id": "j-DCQLIOSRpx"
      }
    },
    {
      "cell_type": "markdown",
      "source": [
        "Exercicio 01 - (While, If, Elif e Else) Escreva um programa que solicite ao usuário que adivinhe um número entre 1 e 100 O programa deve continuar solicitando a entrada do usuário até que ele adivinhe corretamente o número."
      ],
      "metadata": {
        "id": "9swqm20TUGty"
      }
    },
    {
      "cell_type": "code",
      "execution_count": null,
      "metadata": {
        "colab": {
          "base_uri": "https://localhost:8080/"
        },
        "id": "w2K2xvfSRl-g",
        "outputId": "7f208c5a-8367-4892-e776-1c2c5a68a209"
      },
      "outputs": [
        {
          "output_type": "stream",
          "name": "stdout",
          "text": [
            "Tente adivinhar o número secreto entre 1 e 100: 50\n",
            "|------------------------------------------------------|\n",
            "O número secreto é maior. Tente novamente\n",
            "Tente adivinhar o número secreto entre 1 e 100: 80\n",
            "|------------------------------------------------------|\n",
            "O número secreto é menor. Tente Novamente\n",
            "Tente adivinhar o número secreto entre 1 e 100: 60\n",
            "|------------------------------------------------------|\n",
            "O número secreto é maior. Tente novamente\n",
            "Tente adivinhar o número secreto entre 1 e 100: 70\n",
            "|------------------------------------------------------|\n",
            "O número secreto é menor. Tente Novamente\n",
            "Tente adivinhar o número secreto entre 1 e 100: 65\n",
            "|------------------------------------------------------|\n",
            "O número secreto é menor. Tente Novamente\n",
            "Tente adivinhar o número secreto entre 1 e 100: 62\n",
            "|******************************************************|\n",
            "Parabéns! Você acertou o número secreto!\n"
          ]
        }
      ],
      "source": [
        "# O COMANDO DA LINHA 2 IMPORTA O MÓDULO random QUE FORNCE FUNÇÕES PARA GERAR NÚMEROS ALEATÓRIOS\n",
        "import random\n",
        "\"\"\"\n",
        "# O COMANDO DA LINHA 5 GERA UM NÚMERO ALEATÓRIO ENTRE 1 E 100, USANDO A FUNÇÃO randint(inicio, final) DO MÓDULO random.\n",
        "SALVANDO O NÚMERO GERADO A VARIÉVEL numero_secreto\n",
        "\"\"\"\n",
        "numero_secreto = random.randint(1,100)\n",
        "\n",
        "# NA LINHA 10 É ATRIBUIDO A VARIÁVEL adivinhou COMO falso. ESSA VARIÁVEL SERÁ USADA NO CONTROLE DO LOOP DO COMANDO WHILE\n",
        "adivinhou = False\n",
        "\n",
        "\n",
        "while not adivinhou:\n",
        "  tentativa = int(input(\"Tente adivinhar o número secreto entre 1 e 100: \"))\n",
        "\n",
        "  if tentativa == numero_secreto:\n",
        "    print(\"|******************************************************|\")\n",
        "    print(\"Parabéns! Você acertou o número secreto!\")\n",
        "    adivinhou = True\n",
        "  elif tentativa < numero_secreto:\n",
        "    print(\"|------------------------------------------------------|\")\n",
        "    print(\"O número secreto é maior. Tente novamente\")\n",
        "  else:\n",
        "    print(\"|------------------------------------------------------|\")\n",
        "    print(\"O número secreto é menor. Tente Novamente\")"
      ]
    }
  ]
}